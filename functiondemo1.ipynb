{
 "cells": [
  {
   "cell_type": "code",
   "execution_count": 3,
   "id": "934c9929",
   "metadata": {},
   "outputs": [],
   "source": [
    "def student_clac():\n",
    "    pass"
   ]
  },
  {
   "cell_type": "code",
   "execution_count": null,
   "id": "0ccfcd8c",
   "metadata": {},
   "outputs": [],
   "source": [
    "def student_output():\n",
    "    pass"
   ]
  },
  {
   "cell_type": "code",
   "execution_count": 2,
   "id": "5cc66f92",
   "metadata": {},
   "outputs": [],
   "source": [
    "def student_input(student):\n",
    "    irum = input ('name:')\n",
    "    eng = input ()\n",
    "    pass"
   ]
  },
  {
   "cell_type": "code",
   "execution_count": null,
   "id": "cf4b1dc0",
   "metadata": {},
   "outputs": [],
   "source": [
    "student = {}\n",
    "student_input(student)"
   ]
  },
  {
   "cell_type": "code",
   "execution_count": null,
   "id": "83103e81",
   "metadata": {},
   "outputs": [],
   "source": []
  },
  {
   "cell_type": "code",
   "execution_count": null,
   "id": "5241dd1f",
   "metadata": {},
   "outputs": [],
   "source": []
  },
  {
   "cell_type": "code",
   "execution_count": null,
   "id": "0e25b0ab",
   "metadata": {},
   "outputs": [],
   "source": []
  },
  {
   "cell_type": "code",
   "execution_count": null,
   "id": "5eaef48b",
   "metadata": {},
   "outputs": [],
   "source": []
  }
 ],
 "metadata": {
  "kernelspec": {
   "display_name": "Python 3 (ipykernel)",
   "language": "python",
   "name": "python3"
  },
  "language_info": {
   "codemirror_mode": {
    "name": "ipython",
    "version": 3
   },
   "file_extension": ".py",
   "mimetype": "text/x-python",
   "name": "python",
   "nbconvert_exporter": "python",
   "pygments_lexer": "ipython3",
   "version": "3.11.4"
  }
 },
 "nbformat": 4,
 "nbformat_minor": 5
}
