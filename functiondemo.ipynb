{
 "cells": [
  {
   "cell_type": "code",
   "execution_count": 1,
   "id": "a263b9a4",
   "metadata": {},
   "outputs": [],
   "source": [
    "def modify(value):\n",
    "    print('before change value = {value}')\n",
    "    value += ', world'\n",
    "    print(f'After change value = {value}')\n",
    "    "
   ]
  },
  {
   "cell_type": "code",
   "execution_count": 2,
   "id": "8bb89aff",
   "metadata": {},
   "outputs": [
    {
     "name": "stdout",
     "output_type": "stream",
     "text": [
      "before change value = {value}\n",
      "After change value = 5000\n"
     ]
    }
   ],
   "source": [
    "origin = 'hello'\n",
    "modify(origin)\n",
    "print(f'origin = {origin}')\n"
   ]
  },
  {
   "cell_type": "code",
   "execution_count": 3,
   "id": "0d1f4d16",
   "metadata": {},
   "outputs": [
    {
     "ename": "SyntaxError",
     "evalue": "incomplete input (2439769935.py, line 3)",
     "output_type": "error",
     "traceback": [
      "\u001b[1;36m  Cell \u001b[1;32mIn[3], line 3\u001b[1;36m\u001b[0m\n\u001b[1;33m    \u001b[0m\n\u001b[1;37m    ^\u001b[0m\n\u001b[1;31mSyntaxError\u001b[0m\u001b[1;31m:\u001b[0m incomplete input\n"
     ]
    }
   ],
   "source": [
    "def modify1(value):\n",
    "    print(f'Before change vlaue ={value}')\n",
    "    value[0] = 10000\n",
    "    print(f'After change value = {value}')\n",
    "            \n",
    "        "
   ]
  },
  {
   "cell_type": "code",
   "execution_count": 4,
   "id": "f87e6a5f",
   "metadata": {},
   "outputs": [
    {
     "ename": "SyntaxError",
     "evalue": "unterminated string literal (detected at line 3) (2279596429.py, line 3)",
     "output_type": "error",
     "traceback": [
      "\u001b[1;36m  Cell \u001b[1;32mIn[4], line 3\u001b[1;36m\u001b[0m\n\u001b[1;33m    print(f'origin = {origin}'')\u001b[0m\n\u001b[1;37m                              ^\u001b[0m\n\u001b[1;31mSyntaxError\u001b[0m\u001b[1;31m:\u001b[0m unterminated string literal (detected at line 3)\n"
     ]
    }
   ],
   "source": [
    "origin = [1,2,3,4,5]\n",
    "modify1(origin)\n",
    "print(f'origin = {origin}'')"
   ]
  },
  {
   "cell_type": "code",
   "execution_count": null,
   "id": "9c8c765f",
   "metadata": {},
   "outputs": [],
   "source": []
  }
 ],
 "metadata": {
  "kernelspec": {
   "display_name": "Python 3 (ipykernel)",
   "language": "python",
   "name": "python3"
  },
  "language_info": {
   "codemirror_mode": {
    "name": "ipython",
    "version": 3
   },
   "file_extension": ".py",
   "mimetype": "text/x-python",
   "name": "python",
   "nbconvert_exporter": "python",
   "pygments_lexer": "ipython3",
   "version": "3.11.4"
  }
 },
 "nbformat": 4,
 "nbformat_minor": 5
}
